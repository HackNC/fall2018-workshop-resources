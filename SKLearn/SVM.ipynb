{
 "cells": [
  {
   "cell_type": "markdown",
   "metadata": {},
   "source": [
    "# SVM\n",
    "### References:  \n",
    "http://scikit-learn.org/stable/auto_examples/svm/plot_svm_kernels.html    \n"
   ]
  },
  {
   "cell_type": "markdown",
   "metadata": {},
   "source": [
    "__import the libraries__"
   ]
  },
  {
   "cell_type": "code",
   "execution_count": null,
   "metadata": {},
   "outputs": [],
   "source": [
    "# For mathematical calculation\n",
    "import numpy as np\n",
    "\n",
    "# For plotting graphs\n",
    "import matplotlib.pyplot as plt\n",
    "\n",
    "# Import the sklearn for SVM\n",
    "from sklearn import svm\n",
    "\n",
    "# For creating datasets\n",
    "from sklearn.datasets import make_circles"
   ]
  },
  {
   "cell_type": "markdown",
   "metadata": {},
   "source": [
    "__create the dataset__"
   ]
  },
  {
   "cell_type": "code",
   "execution_count": null,
   "metadata": {},
   "outputs": [],
   "source": [
    "df, value = make_circles(n_samples=500,\n",
    "            noise=.05,factor=.5)\n",
    "print(df.shape)\n",
    "df[:5,:]"
   ]
  },
  {
   "cell_type": "markdown",
   "metadata": {},
   "source": [
    "__Plot dataset__"
   ]
  },
  {
   "cell_type": "code",
   "execution_count": null,
   "metadata": {},
   "outputs": [],
   "source": [
    "plt.scatter(df[:,0],df[:,1],c=value)\n",
    "plt.show()\n"
   ]
  },
  {
   "cell_type": "markdown",
   "metadata": {},
   "source": [
    "__Calculate the higher dimension value__\n"
   ]
  },
  {
   "cell_type": "code",
   "execution_count": null,
   "metadata": {},
   "outputs": [],
   "source": [
    "x = df[:,0]\n",
    "y = df[:,1]\n",
    "z = x**2 + y**2\n",
    "\n",
    "kernals = ['linear','poly','rbf']\n",
    "training_set = np.c_[x,y]\n"
   ]
  },
  {
   "cell_type": "markdown",
   "metadata": {},
   "source": [
    "__Train and predict for each kernal__\n"
   ]
  },
  {
   "cell_type": "code",
   "execution_count": null,
   "metadata": {},
   "outputs": [],
   "source": [
    "for idx,kernal in enumerate(kernals):   \n",
    "    clf=svm.SVC(kernel=kernal,gamma=2)   \n",
    "        \n",
    "    # Train the model \n",
    "    clf.fit(training_set,value)\n",
    "\n",
    "    # Test the model\n",
    "    prediction = clf.predict([[-0.4,-0.4]])\n",
    "    print(prediction)\n",
    "    # plot the line, the points, and the nearest vectors to the plane    \n",
    "    X = training_set\n",
    "    y = value\n",
    "    X0 = X[np.where(y == 0)]\n",
    "    X1 = X[np.where(y == 1)]\n",
    "    plt.figure()    \n",
    "    x_min = X[:, 0].min()\n",
    "    x_max = X[:, 0].max()\n",
    "    y_min = X[:, 1].min()\n",
    "    y_max = X[:, 1].max()\n",
    "    XX, YY = np.mgrid[x_min:x_max:200j, y_min:y_max:200j]\n",
    "    Z = clf.decision_function(np.c_[XX.ravel(), YY.ravel()])\n",
    "    \n",
    "    # Put the result into a color plot\n",
    "    Z = Z.reshape(XX.shape)\n",
    "    plt.pcolormesh(XX, YY, Z > 0, cmap=plt.cm.Paired)\n",
    "    plt.contour(XX, YY, Z, colors=['k', 'k', 'k'], linestyles=['--', '-', '--'],\n",
    "                levels=[-.5, 0, .5])\n",
    "           \n",
    "    plt.scatter(X0[:, 0], X0[:, 1], c='r',s=50)\n",
    "    plt.scatter(X1[:, 0], X1[:, 1], c='b',s=50)  \n",
    "    title = ('SVC with {} kernal').format(kernal)\n",
    "    plt.title(title)    \n",
    "    plt.show()\n",
    "prediction"
   ]
  }
 ],
 "metadata": {
  "kernelspec": {
   "display_name": "Python 3",
   "language": "python",
   "name": "python3"
  },
  "language_info": {
   "codemirror_mode": {
    "name": "ipython",
    "version": 3
   },
   "file_extension": ".py",
   "mimetype": "text/x-python",
   "name": "python",
   "nbconvert_exporter": "python",
   "pygments_lexer": "ipython3",
   "version": "3.6.5"
  }
 },
 "nbformat": 4,
 "nbformat_minor": 2
}
