{
 "cells": [
  {
   "cell_type": "markdown",
   "metadata": {},
   "source": [
    "# KNN\n",
    "## Features of dataset:\n",
    "* sepal_length - sepal length in cm \n",
    "* sepal_width - sepal width in cm \n",
    "* petal_length - petal length in cm \n",
    "* petal_width- petal width in cm \n",
    "\n",
    "class: \n",
    "1. Iris Setosa \n",
    "2. Iris Versicolour \n",
    "3. Iris Virginica\n",
    "### Given the features of a flower we want to predict the class"
   ]
  },
  {
   "cell_type": "markdown",
   "metadata": {},
   "source": [
    "__Import the required libraries__"
   ]
  },
  {
   "cell_type": "code",
   "execution_count": null,
   "metadata": {},
   "outputs": [],
   "source": [
    "# For handling datasets\n",
    "import pandas as pd\n",
    "\n",
    "# For plotting graphs\n",
    "from matplotlib import pyplot as plt\n",
    "\n",
    "# Import the sklearn library for KNN\n",
    "from sklearn.neighbors import KNeighborsClassifier\n"
   ]
  },
  {
   "cell_type": "markdown",
   "metadata": {},
   "source": [
    "__Import the csv file__"
   ]
  },
  {
   "cell_type": "code",
   "execution_count": null,
   "metadata": {},
   "outputs": [],
   "source": [
    "df = pd.read_csv('knn_data.csv')\n",
    "\n",
    "df.head()\n"
   ]
  },
  {
   "cell_type": "markdown",
   "metadata": {},
   "source": [
    "__Prepare the training set__"
   ]
  },
  {
   "cell_type": "code",
   "execution_count": null,
   "metadata": {},
   "outputs": [],
   "source": [
    "X = df.loc[:,'sepal_length':'petal_width']\n",
    "Y = df.loc[:,'class']\n",
    "\n",
    "knn = KNeighborsClassifier()\n"
   ]
  },
  {
   "cell_type": "markdown",
   "metadata": {},
   "source": [
    "__Train the model__"
   ]
  },
  {
   "cell_type": "code",
   "execution_count": null,
   "metadata": {},
   "outputs": [],
   "source": [
    "knn.fit(X,Y)\n"
   ]
  },
  {
   "cell_type": "markdown",
   "metadata": {},
   "source": [
    "__Prepare the test data__\n"
   ]
  },
  {
   "cell_type": "code",
   "execution_count": null,
   "metadata": {},
   "outputs": [],
   "source": [
    "X_test = [[4.9,7.0,1.2,0.2],\n",
    "         [6.0,2.9,4.5,1.5],\n",
    "         [6.1,2.6,5.6,1.2]]\n"
   ]
  },
  {
   "cell_type": "markdown",
   "metadata": {},
   "source": [
    "__Test the model(returns the class)__"
   ]
  },
  {
   "cell_type": "code",
   "execution_count": null,
   "metadata": {},
   "outputs": [],
   "source": [
    "prediction = knn.predict(X_test)\n",
    "\n",
    "prediction\n"
   ]
  },
  {
   "cell_type": "code",
   "execution_count": null,
   "metadata": {},
   "outputs": [],
   "source": [
    "df = pd.read_csv('knn_data1.csv')\n",
    "df.head()"
   ]
  },
  {
   "cell_type": "markdown",
   "metadata": {},
   "source": [
    "__Plot the relation of each feature with each class__"
   ]
  },
  {
   "cell_type": "code",
   "execution_count": null,
   "metadata": {},
   "outputs": [],
   "source": [
    "plt.xlabel('Feature')\n",
    "plt.ylabel('Class') \n",
    "\n",
    "X = df.loc[:,'sepal_length']\n",
    "Y = df.loc[:,'class']\n",
    "plt.scatter(X, Y,color='blue',label='sepal_length')\n",
    "\n",
    "X = df.loc[:,'sepal_width']\n",
    "Y = df.loc[:,'class']\n",
    "plt.scatter(X, Y,color='green',label='sepal_width')\n",
    "\n",
    "X = df.loc[:,'petal_length']\n",
    "Y = df.loc[:,'class']\n",
    "plt.scatter(X, Y,color='red',label='petal_length')\n",
    "\n",
    "X = df.loc[:,'petal_width']\n",
    "Y = df.loc[:,'class']\n",
    "plt.scatter(X, Y,color='black',label='petal_width')\n",
    "\n",
    "plt.legend(loc=4, prop={'size': 5})\n",
    "plt.show()"
   ]
  },
  {
   "cell_type": "code",
   "execution_count": null,
   "metadata": {},
   "outputs": [],
   "source": []
  }
 ],
 "metadata": {
  "kernelspec": {
   "display_name": "Python 3",
   "language": "python",
   "name": "python3"
  },
  "language_info": {
   "codemirror_mode": {
    "name": "ipython",
    "version": 3
   },
   "file_extension": ".py",
   "mimetype": "text/x-python",
   "name": "python",
   "nbconvert_exporter": "python",
   "pygments_lexer": "ipython3",
   "version": "3.6.5"
  }
 },
 "nbformat": 4,
 "nbformat_minor": 2
}
