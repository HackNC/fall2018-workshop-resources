{
 "cells": [
  {
   "cell_type": "markdown",
   "metadata": {},
   "source": [
    "# Naive Bayes\n",
    "## Dataset of patients who had undergone  surgery for breast cancer. \n",
    "\n",
    "* Age - Age of patient at time of operation.\n",
    "* Year - Patient's year of operation (year - 1900).\n",
    "* Nodes - Number of positive axillary nodes detected.\n",
    "\n",
    "Class(Survived): \n",
    "1. the patient survived 5 years or longer\n",
    "2. the patient died within 5 year\n"
   ]
  },
  {
   "cell_type": "markdown",
   "metadata": {},
   "source": [
    "__Import required libraries__"
   ]
  },
  {
   "cell_type": "code",
   "execution_count": null,
   "metadata": {},
   "outputs": [],
   "source": [
    "# For mathematical calculation\n",
    "import numpy as np\n",
    "\n",
    "# For handling datasets\n",
    "import pandas as pd\n",
    "\n",
    "# For plotting graphs\n",
    "from matplotlib import pyplot as plt\n",
    "\n",
    "# Import the sklearn library for Naive bayes\n",
    "from sklearn.naive_bayes import GaussianNB\n"
   ]
  },
  {
   "cell_type": "markdown",
   "metadata": {},
   "source": [
    "__Import the csv file__"
   ]
  },
  {
   "cell_type": "code",
   "execution_count": null,
   "metadata": {},
   "outputs": [],
   "source": [
    "df = pd.read_csv('data/naive_data.csv')\n",
    "\n",
    "df.head()"
   ]
  },
  {
   "cell_type": "markdown",
   "metadata": {},
   "source": [
    "__Plot the classes against features__"
   ]
  },
  {
   "cell_type": "code",
   "execution_count": null,
   "metadata": {},
   "outputs": [],
   "source": [
    "plt.xlabel('Feature')\n",
    "plt.ylabel('Survived') \n",
    "\n",
    "X = df.loc[:,'Age']\n",
    "Y = df.loc[:,'Survived']\n",
    "plt.scatter(X, Y,color='blue',label='Age')\n",
    "\n",
    "X = df.loc[:,'Year']\n",
    "Y = df.loc[:,'Survived']\n",
    "plt.scatter(X, Y,color='green',label='Year')\n",
    "\n",
    "X = df.loc[:,'Nodes']\n",
    "Y = df.loc[:,'Survived']\n",
    "plt.scatter(X, Y,color='red',label='Nodes')\n",
    "\n",
    "plt.legend(loc=4, prop={'size': 7})\n",
    "plt.show()\n"
   ]
  },
  {
   "cell_type": "markdown",
   "metadata": {},
   "source": [
    "__Prepare the training set__"
   ]
  },
  {
   "cell_type": "code",
   "execution_count": null,
   "metadata": {},
   "outputs": [],
   "source": [
    "X = df.loc[:,'Age':'Nodes']\n",
    "Y = df.loc[:,'Survived']\n",
    "\n",
    "clf = GaussianNB()\n"
   ]
  },
  {
   "cell_type": "markdown",
   "metadata": {},
   "source": [
    "__Train the model__"
   ]
  },
  {
   "cell_type": "code",
   "execution_count": null,
   "metadata": {},
   "outputs": [],
   "source": [
    "clf.fit(X,Y)\n"
   ]
  },
  {
   "cell_type": "markdown",
   "metadata": {},
   "source": [
    "__Test the model__"
   ]
  },
  {
   "cell_type": "code",
   "execution_count": null,
   "metadata": {},
   "outputs": [],
   "source": [
    "prediction = clf.predict([[12,70,12],\n",
    "                          [13,20,13]])\n",
    "prediction"
   ]
  }
 ],
 "metadata": {
  "kernelspec": {
   "display_name": "Python 3",
   "language": "python",
   "name": "python3"
  },
  "language_info": {
   "codemirror_mode": {
    "name": "ipython",
    "version": 3
   },
   "file_extension": ".py",
   "mimetype": "text/x-python",
   "name": "python",
   "nbconvert_exporter": "python",
   "pygments_lexer": "ipython3",
   "version": "3.6.5"
  }
 },
 "nbformat": 4,
 "nbformat_minor": 2
}
