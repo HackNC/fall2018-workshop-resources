{
 "cells": [
  {
   "cell_type": "markdown",
   "metadata": {},
   "source": [
    "# Matplotlib"
   ]
  },
  {
   "cell_type": "markdown",
   "metadata": {},
   "source": [
    "__BASIC PLOTTING__"
   ]
  },
  {
   "cell_type": "code",
   "execution_count": null,
   "metadata": {},
   "outputs": [],
   "source": [
    "# Import pyplot as convention\n",
    "import matplotlib.pyplot as plt\n",
    "import numpy as np"
   ]
  },
  {
   "cell_type": "code",
   "execution_count": null,
   "metadata": {},
   "outputs": [],
   "source": [
    "## Plot some co-ordinates\n",
    "plt.plot([2.3,3.6,7.8],[4.2,1.7,7.4])\n",
    "plt.show()"
   ]
  },
  {
   "cell_type": "markdown",
   "metadata": {},
   "source": [
    "__LEGENDS, LABELS, COLORS, etc__"
   ]
  },
  {
   "cell_type": "code",
   "execution_count": null,
   "metadata": {},
   "outputs": [],
   "source": [
    "# line 1\n",
    "X1 = ([2,4,6,10])\n",
    "Y1 = ([4,6,6,8])\n"
   ]
  },
  {
   "cell_type": "code",
   "execution_count": null,
   "metadata": {},
   "outputs": [],
   "source": [
    "# line 2\n",
    "X2 = ([2,4,6,10])\n",
    "Y2 = ([2,4,8,10])\n"
   ]
  },
  {
   "cell_type": "markdown",
   "metadata": {},
   "source": [
    "__Plotting, linestyle, color and legends__\n"
   ]
  },
  {
   "cell_type": "code",
   "execution_count": null,
   "metadata": {},
   "outputs": [],
   "source": [
    "plt.plot(X1,Y1,linestyle='--',c='g',label='Line 1')\n",
    "plt.plot(X2,Y2,linestyle='-',c='r', label='Line 2')\n",
    "plt.legend()\n",
    "#Set title\n",
    "plt.title('Matplotlib Demo')\n",
    "#Set labels\n",
    "plt.xlabel('X - Value')  \n",
    "plt.ylabel('Y - Value')  \n",
    "#Set axis ticks\n",
    "plt.xticks([0,2,4,6,8,10,12])\n",
    "plt.yticks([0,2,4,6,8,10,12])\n",
    "plt.show()"
   ]
  },
  {
   "cell_type": "markdown",
   "metadata": {},
   "source": [
    "__Saving plots to a file__"
   ]
  },
  {
   "cell_type": "code",
   "execution_count": null,
   "metadata": {},
   "outputs": [],
   "source": [
    "plt.savefig('plots.png')"
   ]
  },
  {
   "cell_type": "markdown",
   "metadata": {},
   "source": [
    "__BAR PLOTS AND HISTOGRAMS__"
   ]
  },
  {
   "cell_type": "markdown",
   "metadata": {},
   "source": [
    "1. Bar plots"
   ]
  },
  {
   "cell_type": "code",
   "execution_count": null,
   "metadata": {},
   "outputs": [],
   "source": [
    "plt.bar([11,14,19,13,16],[0.2,0.4,0.6,0.8,1.0])\n",
    "plt.xticks(np.arange(11,20))\n",
    "plt.title('Bar Graph Example')\n",
    "plt.show()\n"
   ]
  },
  {
   "cell_type": "markdown",
   "metadata": {},
   "source": [
    "2. Histogram"
   ]
  },
  {
   "cell_type": "code",
   "execution_count": null,
   "metadata": {},
   "outputs": [],
   "source": [
    "IQ = [85,92,115,121,72,102,104,99,110\n",
    "       ,120,121,122,90,115,119,92,98,110,138]\n",
    "       \n",
    "Age = [70,80,90,100,110,120,130,140,150]\n",
    "plt.hist(IQ, Age, histtype='bar', rwidth=0.8)\n",
    "plt.xlabel('IQ range')\n",
    "plt.ylabel('No. of Students')\n",
    "plt.title('Histogram Example')\n",
    "plt.show()\n"
   ]
  },
  {
   "cell_type": "markdown",
   "metadata": {},
   "source": [
    "3. Scatter Plots"
   ]
  },
  {
   "cell_type": "code",
   "execution_count": null,
   "metadata": {},
   "outputs": [],
   "source": [
    "# Get some random ponts\n",
    "x = np.random.randn(200)\n",
    "y = np.random.randn(200)\n",
    "\n",
    "plt.scatter(x,y,c='r')\n",
    "\n",
    "plt.xlabel('x')\n",
    "plt.ylabel('y')\n",
    "plt.title('Scatter Plot Example')\n",
    "\n",
    "plt.show()\n"
   ]
  },
  {
   "cell_type": "markdown",
   "metadata": {},
   "source": [
    "4. Pie chart"
   ]
  },
  {
   "cell_type": "code",
   "execution_count": null,
   "metadata": {},
   "outputs": [],
   "source": [
    "Programming_Languages = [\"C\",\"C++\",\"Java\",\n",
    "       \"Python\", \"ruby\",\"php\"]\n",
    "       \n",
    "Usage = [10, 20, 40, 60, 20, 30]\n",
    "\n",
    "# Pie chart is oval by default\n",
    "# To make it a circle\n",
    "plt.axis(\"equal\")\n",
    "\n",
    "plt.pie(Usage,labels=Programming_Languages,\n",
    "       shadow=True)\n",
    "       \n",
    "plt.title(\"Pie Chart Example\")\n",
    "plt.show()\n"
   ]
  },
  {
   "cell_type": "markdown",
   "metadata": {},
   "source": [
    "5. Subplots"
   ]
  },
  {
   "cell_type": "code",
   "execution_count": null,
   "metadata": {},
   "outputs": [],
   "source": [
    "# Figure object contains plots\n",
    "fig = plt.figure()\n",
    "\n",
    "# Create subplots using add_subplot()\n",
    "ax1 = fig.add_subplot(2,2,1)\n",
    "\n",
    "# Plot random numbers\n",
    "ax1.plot(np.random.randn(50),c='red')\n",
    "\n",
    "ax2 = fig.add_subplot(2,2,2)\n",
    "ax2.plot(np.random.randn(50),c='green')\n",
    "\n",
    "ax3 = fig.add_subplot(2,2,3)\n",
    "ax3.plot(np.random.randn(50),c='blue')\n",
    "\n",
    "ax4 = fig.add_subplot(2,2,4)\n",
    "ax4.plot(np.random.randn(50),c='black')\n",
    "plt.show()"
   ]
  },
  {
   "cell_type": "markdown",
   "metadata": {},
   "source": [
    "__ 3-D Plotting__"
   ]
  },
  {
   "cell_type": "code",
   "execution_count": null,
   "metadata": {},
   "outputs": [],
   "source": [
    "# Axes3D is used to plot 3d figures\n",
    "from mpl_toolkits.mplot3d import Axes3D\n"
   ]
  },
  {
   "cell_type": "markdown",
   "metadata": {},
   "source": [
    "1. 3d - Basic"
   ]
  },
  {
   "cell_type": "code",
   "execution_count": null,
   "metadata": {},
   "outputs": [],
   "source": [
    "fig = plt.figure()\n",
    "ax = Axes3D(fig)\n",
    "ax = fig.add_subplot(111, projection='3d')\n",
    "\n",
    "X = [11,13,14,16,17]\n",
    "Y = [1,11,4,6,0]\n",
    "Z = [0,6,0,6,0]\n",
    "\n",
    "ax.plot(X,Y,Z)\n",
    "\n",
    "ax.set_xlabel('x axis')\n",
    "ax.set_ylabel('y axis')\n",
    "ax.set_zlabel('z axis')\n",
    "\n",
    "plt.title('3-D Graph Plot')\n",
    "\n",
    "plt.show()"
   ]
  },
  {
   "cell_type": "markdown",
   "metadata": {},
   "source": [
    "2. 3d - Scatter plot"
   ]
  },
  {
   "cell_type": "code",
   "execution_count": null,
   "metadata": {},
   "outputs": [],
   "source": [
    "fig = plt.figure()\n",
    "ax = Axes3D(fig)\n",
    "\n",
    "X = np.random.randn(100)\n",
    "Y = np.random.randn(100)\n",
    "Z = np.random.randn(100)\n",
    "\n",
    "ax.scatter(X, Y, Z,c='b')\n",
    "\n",
    "plt.title('3-D Scatter Plot')\n",
    "plt.show()"
   ]
  }
 ],
 "metadata": {
  "kernelspec": {
   "display_name": "Python 3",
   "language": "python",
   "name": "python3"
  },
  "language_info": {
   "codemirror_mode": {
    "name": "ipython",
    "version": 3
   },
   "file_extension": ".py",
   "mimetype": "text/x-python",
   "name": "python",
   "nbconvert_exporter": "python",
   "pygments_lexer": "ipython3",
   "version": "3.6.5"
  }
 },
 "nbformat": 4,
 "nbformat_minor": 2
}
